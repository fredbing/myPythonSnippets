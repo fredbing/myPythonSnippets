{
 "cells": [
  {
   "cell_type": "markdown",
   "metadata": {},
   "source": [
    "### Read, process and write excel files with pandas "
   ]
  },
  {
   "cell_type": "code",
   "execution_count": 10,
   "metadata": {},
   "outputs": [
    {
     "name": "stdout",
     "output_type": "stream",
     "text": [
      "Collecting xlrd\n",
      "\u001b[?25l  Downloading https://files.pythonhosted.org/packages/b0/16/63576a1a001752e34bf8ea62e367997530dc553b689356b9879339cf45a4/xlrd-1.2.0-py2.py3-none-any.whl (103kB)\n",
      "\u001b[K     |████████████████████████████████| 112kB 2.7MB/s eta 0:00:01\n",
      "\u001b[?25hInstalling collected packages: xlrd\n",
      "Successfully installed xlrd-1.2.0\n",
      "\u001b[33mWARNING: You are using pip version 19.2.2, however version 19.2.3 is available.\n",
      "You should consider upgrading via the 'pip install --upgrade pip' command.\u001b[0m\n"
     ]
    }
   ],
   "source": [
    "!pip3 install xlrd\n"
   ]
  },
  {
   "cell_type": "code",
   "execution_count": 11,
   "metadata": {},
   "outputs": [
    {
     "data": {
      "text/html": [
       "<div>\n",
       "<style scoped>\n",
       "    .dataframe tbody tr th:only-of-type {\n",
       "        vertical-align: middle;\n",
       "    }\n",
       "\n",
       "    .dataframe tbody tr th {\n",
       "        vertical-align: top;\n",
       "    }\n",
       "\n",
       "    .dataframe thead th {\n",
       "        text-align: right;\n",
       "    }\n",
       "</style>\n",
       "<table border=\"1\" class=\"dataframe\">\n",
       "  <thead>\n",
       "    <tr style=\"text-align: right;\">\n",
       "      <th></th>\n",
       "      <th>Company information data file, 2019</th>\n",
       "      <th>Unnamed: 1</th>\n",
       "      <th>Unnamed: 2</th>\n",
       "      <th>Unnamed: 3</th>\n",
       "      <th>Unnamed: 4</th>\n",
       "    </tr>\n",
       "  </thead>\n",
       "  <tbody>\n",
       "    <tr>\n",
       "      <td>0</td>\n",
       "      <td>NaN</td>\n",
       "      <td>NaN</td>\n",
       "      <td>NaN</td>\n",
       "      <td>NaN</td>\n",
       "      <td>NaN</td>\n",
       "    </tr>\n",
       "    <tr>\n",
       "      <td>1</td>\n",
       "      <td>Company</td>\n",
       "      <td>Number of Employee</td>\n",
       "      <td>Revenue</td>\n",
       "      <td>Stock Price</td>\n",
       "      <td>eps</td>\n",
       "    </tr>\n",
       "    <tr>\n",
       "      <td>2</td>\n",
       "      <td>AAA</td>\n",
       "      <td>2006</td>\n",
       "      <td>4005</td>\n",
       "      <td>35</td>\n",
       "      <td>4</td>\n",
       "    </tr>\n",
       "    <tr>\n",
       "      <td>3</td>\n",
       "      <td>BPT</td>\n",
       "      <td>23450</td>\n",
       "      <td>400056</td>\n",
       "      <td>67</td>\n",
       "      <td>0.3</td>\n",
       "    </tr>\n",
       "    <tr>\n",
       "      <td>4</td>\n",
       "      <td>Colobibi</td>\n",
       "      <td>340</td>\n",
       "      <td>379</td>\n",
       "      <td>342</td>\n",
       "      <td>-1</td>\n",
       "    </tr>\n",
       "    <tr>\n",
       "      <td>5</td>\n",
       "      <td>Epson</td>\n",
       "      <td>56</td>\n",
       "      <td>-1</td>\n",
       "      <td>12</td>\n",
       "      <td>13.2</td>\n",
       "    </tr>\n",
       "    <tr>\n",
       "      <td>6</td>\n",
       "      <td>Jairon</td>\n",
       "      <td>891</td>\n",
       "      <td>659</td>\n",
       "      <td>N.A.</td>\n",
       "      <td>N.A.</td>\n",
       "    </tr>\n",
       "    <tr>\n",
       "      <td>7</td>\n",
       "      <td>McToba</td>\n",
       "      <td>1029</td>\n",
       "      <td>2049</td>\n",
       "      <td>9</td>\n",
       "      <td>7.7</td>\n",
       "    </tr>\n",
       "  </tbody>\n",
       "</table>\n",
       "</div>"
      ],
      "text/plain": [
       "  Company information data file, 2019          Unnamed: 1 Unnamed: 2  \\\n",
       "0                                 NaN                 NaN        NaN   \n",
       "1                             Company  Number of Employee    Revenue   \n",
       "2                                 AAA                2006       4005   \n",
       "3                                 BPT               23450     400056   \n",
       "4                            Colobibi                 340        379   \n",
       "5                               Epson                  56         -1   \n",
       "6                              Jairon                 891        659   \n",
       "7                              McToba                1029       2049   \n",
       "\n",
       "    Unnamed: 3 Unnamed: 4  \n",
       "0          NaN        NaN  \n",
       "1  Stock Price        eps  \n",
       "2           35          4  \n",
       "3           67        0.3  \n",
       "4          342         -1  \n",
       "5           12       13.2  \n",
       "6         N.A.       N.A.  \n",
       "7            9        7.7  "
      ]
     },
     "execution_count": 11,
     "metadata": {},
     "output_type": "execute_result"
    }
   ],
   "source": [
    "import pandas as pd\n",
    "df = pd.read_excel(\"./sample_data_files/company_data.xlsx\", \"Sheet1\")\n",
    "df"
   ]
  },
  {
   "cell_type": "code",
   "execution_count": 14,
   "metadata": {},
   "outputs": [
    {
     "data": {
      "text/html": [
       "<div>\n",
       "<style scoped>\n",
       "    .dataframe tbody tr th:only-of-type {\n",
       "        vertical-align: middle;\n",
       "    }\n",
       "\n",
       "    .dataframe tbody tr th {\n",
       "        vertical-align: top;\n",
       "    }\n",
       "\n",
       "    .dataframe thead th {\n",
       "        text-align: right;\n",
       "    }\n",
       "</style>\n",
       "<table border=\"1\" class=\"dataframe\">\n",
       "  <thead>\n",
       "    <tr style=\"text-align: right;\">\n",
       "      <th></th>\n",
       "      <th>Company</th>\n",
       "      <th>Number of Employee</th>\n",
       "      <th>Revenue</th>\n",
       "      <th>Stock Price</th>\n",
       "      <th>eps</th>\n",
       "    </tr>\n",
       "  </thead>\n",
       "  <tbody>\n",
       "    <tr>\n",
       "      <td>0</td>\n",
       "      <td>AAA</td>\n",
       "      <td>2006</td>\n",
       "      <td>4005</td>\n",
       "      <td>35</td>\n",
       "      <td>4</td>\n",
       "    </tr>\n",
       "    <tr>\n",
       "      <td>1</td>\n",
       "      <td>BPT</td>\n",
       "      <td>23450</td>\n",
       "      <td>400056</td>\n",
       "      <td>67</td>\n",
       "      <td>0.3</td>\n",
       "    </tr>\n",
       "    <tr>\n",
       "      <td>2</td>\n",
       "      <td>Colobibi</td>\n",
       "      <td>340</td>\n",
       "      <td>379</td>\n",
       "      <td>342</td>\n",
       "      <td>-1</td>\n",
       "    </tr>\n",
       "    <tr>\n",
       "      <td>3</td>\n",
       "      <td>Epson</td>\n",
       "      <td>56</td>\n",
       "      <td>-1</td>\n",
       "      <td>12</td>\n",
       "      <td>13.2</td>\n",
       "    </tr>\n",
       "    <tr>\n",
       "      <td>4</td>\n",
       "      <td>Jairon</td>\n",
       "      <td>891</td>\n",
       "      <td>659</td>\n",
       "      <td>N.A.</td>\n",
       "      <td>N.A.</td>\n",
       "    </tr>\n",
       "    <tr>\n",
       "      <td>5</td>\n",
       "      <td>McToba</td>\n",
       "      <td>1029</td>\n",
       "      <td>2049</td>\n",
       "      <td>9</td>\n",
       "      <td>7.7</td>\n",
       "    </tr>\n",
       "  </tbody>\n",
       "</table>\n",
       "</div>"
      ],
      "text/plain": [
       "    Company  Number of Employee  Revenue Stock Price   eps\n",
       "0       AAA                2006     4005          35     4\n",
       "1       BPT               23450   400056          67   0.3\n",
       "2  Colobibi                 340      379         342    -1\n",
       "3     Epson                  56       -1          12  13.2\n",
       "4    Jairon                 891      659        N.A.  N.A.\n",
       "5    McToba                1029     2049           9   7.7"
      ]
     },
     "execution_count": 14,
     "metadata": {},
     "output_type": "execute_result"
    }
   ],
   "source": [
    "import pandas as pd\n",
    "df = pd.read_excel(\"./sample_data_files/company_data.xlsx\", \"Sheet1\", header=2)\n",
    "df"
   ]
  },
  {
   "cell_type": "markdown",
   "metadata": {},
   "source": [
    "### convert cell values "
   ]
  },
  {
   "cell_type": "code",
   "execution_count": 15,
   "metadata": {},
   "outputs": [
    {
     "data": {
      "text/html": [
       "<div>\n",
       "<style scoped>\n",
       "    .dataframe tbody tr th:only-of-type {\n",
       "        vertical-align: middle;\n",
       "    }\n",
       "\n",
       "    .dataframe tbody tr th {\n",
       "        vertical-align: top;\n",
       "    }\n",
       "\n",
       "    .dataframe thead th {\n",
       "        text-align: right;\n",
       "    }\n",
       "</style>\n",
       "<table border=\"1\" class=\"dataframe\">\n",
       "  <thead>\n",
       "    <tr style=\"text-align: right;\">\n",
       "      <th></th>\n",
       "      <th>Company</th>\n",
       "      <th>Number of Employee</th>\n",
       "      <th>Revenue</th>\n",
       "      <th>Stock Price</th>\n",
       "      <th>eps</th>\n",
       "    </tr>\n",
       "  </thead>\n",
       "  <tbody>\n",
       "    <tr>\n",
       "      <td>0</td>\n",
       "      <td>AAA</td>\n",
       "      <td>2006</td>\n",
       "      <td>4005.0</td>\n",
       "      <td>35.0</td>\n",
       "      <td>4.0</td>\n",
       "    </tr>\n",
       "    <tr>\n",
       "      <td>1</td>\n",
       "      <td>BPT</td>\n",
       "      <td>23450</td>\n",
       "      <td>400056.0</td>\n",
       "      <td>67.0</td>\n",
       "      <td>0.3</td>\n",
       "    </tr>\n",
       "    <tr>\n",
       "      <td>2</td>\n",
       "      <td>Colobibi</td>\n",
       "      <td>340</td>\n",
       "      <td>379.0</td>\n",
       "      <td>342.0</td>\n",
       "      <td>-1.0</td>\n",
       "    </tr>\n",
       "    <tr>\n",
       "      <td>3</td>\n",
       "      <td>Epson</td>\n",
       "      <td>56</td>\n",
       "      <td>NaN</td>\n",
       "      <td>12.0</td>\n",
       "      <td>13.2</td>\n",
       "    </tr>\n",
       "    <tr>\n",
       "      <td>4</td>\n",
       "      <td>Jairon</td>\n",
       "      <td>891</td>\n",
       "      <td>659.0</td>\n",
       "      <td>NaN</td>\n",
       "      <td>NaN</td>\n",
       "    </tr>\n",
       "    <tr>\n",
       "      <td>5</td>\n",
       "      <td>McToba</td>\n",
       "      <td>1029</td>\n",
       "      <td>2049.0</td>\n",
       "      <td>9.0</td>\n",
       "      <td>7.7</td>\n",
       "    </tr>\n",
       "  </tbody>\n",
       "</table>\n",
       "</div>"
      ],
      "text/plain": [
       "    Company  Number of Employee   Revenue  Stock Price   eps\n",
       "0       AAA                2006    4005.0         35.0   4.0\n",
       "1       BPT               23450  400056.0         67.0   0.3\n",
       "2  Colobibi                 340     379.0        342.0  -1.0\n",
       "3     Epson                  56       NaN         12.0  13.2\n",
       "4    Jairon                 891     659.0          NaN   NaN\n",
       "5    McToba                1029    2049.0          9.0   7.7"
      ]
     },
     "execution_count": 15,
     "metadata": {},
     "output_type": "execute_result"
    }
   ],
   "source": [
    "def convert_NA (cell):\n",
    "    if cell=='N.A.':\n",
    "        return None\n",
    "    return cell\n",
    "\n",
    "def convert_negative (cell):\n",
    "    if cell==-1:\n",
    "        return None\n",
    "    return cell\n",
    "df = pd.read_excel(\"./sample_data_files/company_data.xlsx\", \"Sheet1\", header=2, converters = {\n",
    "    'Stock Price': convert_NA,\n",
    "    'eps': convert_NA,\n",
    "    'Revenue': convert_negative\n",
    "})\n",
    "df"
   ]
  },
  {
   "cell_type": "markdown",
   "metadata": {},
   "source": [
    "### write the transformed files to new excel file "
   ]
  },
  {
   "cell_type": "code",
   "execution_count": 17,
   "metadata": {},
   "outputs": [],
   "source": [
    "df.to_excel(\"./sample_data_files/company_data_rev.xlsx\", sheet_name=\"companies\", startrow=2, startcol=3, index=False)"
   ]
  },
  {
   "cell_type": "markdown",
   "metadata": {},
   "source": [
    "###  write to csv "
   ]
  },
  {
   "cell_type": "code",
   "execution_count": 20,
   "metadata": {},
   "outputs": [],
   "source": [
    "df.to_csv(\"./sample_data_files/company_data_excel.rev.csv\", index=False)"
   ]
  },
  {
   "cell_type": "markdown",
   "metadata": {},
   "source": [
    "### write to multiple excel sheets "
   ]
  },
  {
   "cell_type": "code",
   "execution_count": 21,
   "metadata": {},
   "outputs": [],
   "source": [
    "df_2 = pd.DataFrame({\n",
    "    'Season': ['Spring', 'Summer', 'Fall', 'Winter'],\n",
    "    'Color': ['Green', 'Red', 'Yellow', 'White']\n",
    "})\n",
    "\n"
   ]
  },
  {
   "cell_type": "code",
   "execution_count": 23,
   "metadata": {},
   "outputs": [],
   "source": [
    "with pd.ExcelWriter('./sample_data_files/company_season.xlsx') as writer:\n",
    "    df.to_excel(writer, sheet_name=\"companies\")\n",
    "    df_2.to_excel(writer, sheet_name=\"seasons\")"
   ]
  },
  {
   "cell_type": "code",
   "execution_count": null,
   "metadata": {},
   "outputs": [],
   "source": []
  }
 ],
 "metadata": {
  "kernelspec": {
   "display_name": "Python 3",
   "language": "python",
   "name": "python3"
  },
  "language_info": {
   "codemirror_mode": {
    "name": "ipython",
    "version": 3
   },
   "file_extension": ".py",
   "mimetype": "text/x-python",
   "name": "python",
   "nbconvert_exporter": "python",
   "pygments_lexer": "ipython3",
   "version": "3.7.1"
  }
 },
 "nbformat": 4,
 "nbformat_minor": 2
}
